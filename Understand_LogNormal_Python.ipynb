{
 "cells": [
  {
   "cell_type": "code",
   "execution_count": 31,
   "metadata": {
    "collapsed": true
   },
   "outputs": [],
   "source": [
    "import pandas as pd\n",
    "import numpy as np\n",
    "#import pygeostat as gs\n",
    "import matplotlib.pyplot as plt\n",
    "import scipy as sc\n",
    "from scipy import stats as stats\n",
    "import copy as copy\n",
    "%matplotlib inline"
   ]
  },
  {
   "cell_type": "markdown",
   "metadata": {},
   "source": [
    "This notebook is set up to help understand creating, fitting, and understanding lognormal distributions as used in Python (Numpy and Scipy). Understandind how the terminology is used is key to understanding how to fit and use the lognormal distributions in Python."
   ]
  },
  {
   "cell_type": "markdown",
   "metadata": {},
   "source": [
    "# Creating a Lognormal Distribution"
   ]
  },
  {
   "cell_type": "markdown",
   "metadata": {},
   "source": [
    "creating a random lognormal distribution is quite easy using the numpy package. However the terminology is slightly different. Below we will create a distribution plot it and then look at some of the descriptive stats."
   ]
  },
  {
   "cell_type": "code",
   "execution_count": 13,
   "metadata": {
    "collapsed": true
   },
   "outputs": [],
   "source": [
    "mu = 1\n",
    "sigma = 2\n",
    "# Create a lognormal distribution using mu and sigma\n",
    "dist = np.random.lognormal(mu, sigma, 10000)"
   ]
  },
  {
   "cell_type": "markdown",
   "metadata": {},
   "source": [
    "In order to plot the lognormal distribution in python we need to find values for x and values for the pdf given x. To do that we a value for the shape. Which we can get using scipy"
   ]
  },
  {
   "cell_type": "code",
   "execution_count": 28,
   "metadata": {
    "collapsed": false
   },
   "outputs": [
    {
     "name": "stdout",
     "output_type": "stream",
     "text": [
      "shape =  2.01918380105 \n",
      "Location =  0.000996428325574 \n",
      "Scale =  2.72379081227\n"
     ]
    }
   ],
   "source": [
    "shape, loc, scale = stats.lognorm.fit(dist)\n",
    "x = np.linspace(stats.lognorm.ppf(0.001, shape), stats.lognorm.ppf(0.999, shape), 10000)\n",
    "pdf = stats.lognorm.pdf(x, shape)\n",
    "print('shape = ', shape, '\\nLocation = ', loc, '\\nScale = ', scale)"
   ]
  },
  {
   "cell_type": "markdown",
   "metadata": {},
   "source": [
    "Once we have the shape we can use scipy again to caclulate the x and the pdf which will be used to plot the distribution"
   ]
  },
  {
   "cell_type": "code",
   "execution_count": 37,
   "metadata": {
    "collapsed": false
   },
   "outputs": [
    {
     "data": {
      "text/plain": [
       "<matplotlib.text.Text at 0xb3c59e8>"
      ]
     },
     "execution_count": 37,
     "metadata": {},
     "output_type": "execute_result"
    },
    {
     "data": {
      "image/png": "[encoded data removed]",
      "text/plain": [
       "<matplotlib.figure.Figure at 0x9c5ceb8>"
      ]
     },
     "metadata": {},
     "output_type": "display_data"
    }
   ],
   "source": [
    "plt.plot(x, pdf, linewidth=2, color='blue', label='mu=1, sigma=2')\n",
    "plt.xlim(0,2)\n",
    "plt.title('Lognormal distribution with mu = 1, sigma = 2')"
   ]
  },
  {
   "cell_type": "markdown",
   "metadata": {},
   "source": [
    "As shown here the mu and the sigma don't appear to actually be 1 and 2... So What's going on? Lets delve into some more descriptive stats then."
   ]
  },
  {
   "cell_type": "code",
   "execution_count": 39,
   "metadata": {
    "collapsed": false
   },
   "outputs": [
    {
     "name": "stdout",
     "output_type": "stream",
     "text": [
      "The mean of the distribution =  19.8528416598 \n",
      " The Standard deviation of the dsitribution =  92.5095738787\n"
     ]
    }
   ],
   "source": [
    "print('The mean of the distribution = ', dist.mean(), '\\n The Standard deviation of the dsitribution = ', dist.std())"
   ]
  },
  {
   "cell_type": "markdown",
   "metadata": {},
   "source": [
    "Huh? What's going on here? I thought the mean and the standard deviation were 1 and 2? Well no we will show what scipy means by mu and sigma.... no pun intended."
   ]
  },
  {
   "cell_type": "code",
   "execution_count": 43,
   "metadata": {
    "collapsed": false
   },
   "outputs": [
    {
     "name": "stdout",
     "output_type": "stream",
     "text": [
      "The mean of the ln of the distribution =  1.00476795268 \n",
      " The Standard deviation of the ln of the dsitribution =  2.01388347611\n"
     ]
    }
   ],
   "source": [
    "print('The mean of the ln of the distribution = ', np.mean(np.log(dist)), \n",
    "      '\\n The Standard deviation of the ln of the dsitribution = ', np.std(np.log(dist)))"
   ]
  },
  {
   "cell_type": "markdown",
   "metadata": {},
   "source": [
    "As you can see above if you take the log of the distribution and find the mean or the standard deviation of the log then you will get back to the mean = 1 and sigma = 2.  \n",
    "This can be misleading however since what you create a new distribution with the same mean but a different sigma? Or the same sigma but a different log? That doesn't mean it will translate like we think."
   ]
  },
  {
   "cell_type": "code",
   "execution_count": 61,
   "metadata": {
    "collapsed": false
   },
   "outputs": [
    {
     "name": "stdout",
     "output_type": "stream",
     "text": [
      "----Taking the log of the distribution first gets us back to the mean and sigma.-----\n",
      "The mean of the ln of the distribution =  0.985724097779 \n",
      " The Standard deviation of the ln of the dsitribution =  0.996148562703\n",
      "\n",
      "----Taking the mean and sigma of the distribution can be quite a bit different-----\n",
      "The mean of the distribution =  4.37008180933 \n",
      " The Standard deviation of the dsitribution =  5.5178267231\n"
     ]
    }
   ],
   "source": [
    "mu = 1\n",
    "sigma = 1\n",
    "# Create a lognormal distribution using mu and sigma\n",
    "dist = np.random.lognormal(mu, sigma, 10000)\n",
    "print('----Taking the log of the distribution first gets us back to the mean and sigma.-----')\n",
    "print('The mean of the ln of the distribution = ', np.mean(np.log(dist)), \n",
    "      '\\n The Standard deviation of the ln of the dsitribution = ', np.std(np.log(dist)))\n",
    "print('\\n----Taking the mean and sigma of the distribution can be quite a bit different-----')\n",
    "print('The mean of the distribution = ', dist.mean(), \n",
    "      '\\n The Standard deviation of the distribution = ', dist.std())"
   ]
  },
  {
   "cell_type": "markdown",
   "metadata": {},
   "source": [
    "We can plot the new distribution to see what it looks like"
   ]
  },
  {
   "cell_type": "code",
   "execution_count": 62,
   "metadata": {
    "collapsed": false
   },
   "outputs": [
    {
     "name": "stdout",
     "output_type": "stream",
     "text": [
      "shape =  0.985361560283 \n",
      "Location =  -0.0176678991048 \n",
      "Scale =  2.708768444\n"
     ]
    }
   ],
   "source": [
    "shape, loc, scale = stats.lognorm.fit(dist)\n",
    "x = np.linspace(stats.lognorm.ppf(0.001, shape), stats.lognorm.ppf(0.999, shape), 10000)\n",
    "pdf = stats.lognorm.pdf(x, shape)\n",
    "print('shape = ', shape, '\\nLocation = ', loc, '\\nScale = ', scale)"
   ]
  },
  {
   "cell_type": "code",
   "execution_count": 65,
   "metadata": {
    "collapsed": false
   },
   "outputs": [
    {
     "data": {
      "text/plain": [
       "<matplotlib.text.Text at 0x60582b0>"
      ]
     },
     "execution_count": 65,
     "metadata": {},
     "output_type": "execute_result"
    },
    {
     "data": {
      "image/png": "[encoded data removed]",
      "text/plain": [
       "<matplotlib.figure.Figure at 0x6023898>"
      ]
     },
     "metadata": {},
     "output_type": "display_data"
    }
   ],
   "source": [
    "plt.plot(x, pdf, linewidth=2, color='blue', label='mu=1, sigma=2')\n",
    "plt.xlim(0,2)\n",
    "plt.title('Lognormal distribution with mu = 1, sigma = 1')"
   ]
  },
  {
   "cell_type": "markdown",
   "metadata": {},
   "source": [
    "Higher variance can give us even worse results"
   ]
  },
  {
   "cell_type": "code",
   "execution_count": 64,
   "metadata": {
    "collapsed": false
   },
   "outputs": [
    {
     "name": "stdout",
     "output_type": "stream",
     "text": [
      "----Taking the log of the distribution first gets us back to the mean and sigma.-----\n",
      "The mean of the ln of the distribution =  1.00297438057 \n",
      " The Standard deviation of the ln of the dsitribution =  3.98865235363\n",
      "\n",
      "----Taking the mean and sigma of the distribution can be quite a bit different-----\n",
      "The mean of the distribution =  8835.55763537 \n",
      " The Standard deviation of the dsitribution =  262642.655707\n"
     ]
    }
   ],
   "source": [
    "mu = 1\n",
    "sigma = 4\n",
    "# Create a lognormal distribution using mu and sigma\n",
    "dist = np.random.lognormal(mu, sigma, 10000)\n",
    "print('----Taking the log of the distribution first gets us back to the mean and sigma.-----')\n",
    "print('The mean of the ln of the distribution = ', np.mean(np.log(dist)), \n",
    "      '\\n The Standard deviation of the ln of the dsitribution = ', np.std(np.log(dist)))\n",
    "print('\\n----Taking the mean and sigma of the distribution can be quite a bit different-----')\n",
    "print('The mean of the distribution = ', dist.mean(), \n",
    "      '\\n The Standard deviation of the distribution = ', dist.std())"
   ]
  },
  {
   "cell_type": "markdown",
   "metadata": {},
   "source": [
    "### The questions that then arise are:  \n",
    "What is this mu and sigma that python uses?  \n",
    "If you know the mean and the variance of the distribution that you want.  \n",
    "  - how do you calculate the mu and the sigma?"
   ]
  },
  {
   "cell_type": "code",
   "execution_count": 66,
   "metadata": {
    "collapsed": false
   },
   "outputs": [
    {
     "name": "stdout",
     "output_type": "stream",
     "text": [
      "mu =  -0.549306144334 \n",
      "sigma =  1.04814707397\n"
     ]
    }
   ],
   "source": [
    "m = 1  # Mean of the distribution\n",
    "v = 2  # Variance of the distribution\n",
    "phi = np.sqrt(v + m**2)\n",
    "mu = np.log(m**2/phi)     # mean of log(distribution)\n",
    "sigma = np.sqrt(np.log(phi**2/m**2)) # std dev of log(distribution)\n",
    "print('mu = ', mu, '\\nsigma = ', sigma)"
   ]
  },
  {
   "cell_type": "code",
   "execution_count": 68,
   "metadata": {
    "collapsed": false
   },
   "outputs": [
    {
     "name": "stdout",
     "output_type": "stream",
     "text": [
      "The mean of the distribution =  1.0112919888 \n",
      " The Standard deviation of the distribution =  1.39245591593 \n",
      " The Variance of the distribution =  1.9389334778\n"
     ]
    }
   ],
   "source": [
    "dist = np.random.lognormal(mu, sigma, 10000)\n",
    "print('The mean of the distribution = ', dist.mean(), \n",
    "      '\\n The Standard deviation of the distribution = ', dist.std(),\n",
    "      '\\n The Variance of the distribution = ',(dist.std()**2))"
   ]
  },
  {
   "cell_type": "markdown",
   "metadata": {},
   "source": [
    "Lets test this again by keeping the mean the same and changing the variance"
   ]
  },
  {
   "cell_type": "code",
   "execution_count": 69,
   "metadata": {
    "collapsed": false
   },
   "outputs": [
    {
     "name": "stdout",
     "output_type": "stream",
     "text": [
      "mu =  -0.34657359028 \n",
      "sigma =  0.832554611158\n"
     ]
    }
   ],
   "source": [
    "m = 1  # Mean of the distribution\n",
    "v = 1  # Variance of the distribution\n",
    "phi = np.sqrt(v + m**2)\n",
    "mu = np.log(m**2/phi)     # mean of log(distribution)\n",
    "sigma = np.sqrt(np.log(phi**2/m**2)) # std dev of log(distribution)\n",
    "print('mu = ', mu, '\\nsigma = ', sigma)"
   ]
  },
  {
   "cell_type": "code",
   "execution_count": 70,
   "metadata": {
    "collapsed": false
   },
   "outputs": [
    {
     "name": "stdout",
     "output_type": "stream",
     "text": [
      "The mean of the distribution =  1.00086136404 \n",
      " The Standard deviation of the distribution =  1.01562546858 \n",
      " The Variance of the distribution =  1.03149509242\n"
     ]
    }
   ],
   "source": [
    "dist = np.random.lognormal(mu, sigma, 10000)\n",
    "print('The mean of the distribution = ', dist.mean(), \n",
    "      '\\n The Standard deviation of the distribution = ', dist.std(),\n",
    "      '\\n The Variance of the distribution = ',(dist.std()**2))"
   ]
  },
  {
   "cell_type": "markdown",
   "metadata": {},
   "source": [
    "You can then use the following function to generate a lognormal distribution given the mean and variance of the distribution"
   ]
  },
  {
   "cell_type": "code",
   "execution_count": null,
   "metadata": {
    "collapsed": true
   },
   "outputs": [],
   "source": [
    "def rand_lognorm_dist(mean, variance, num_data=10000):\n",
    "    phi = np.sqrt(variance + mean**2)\n",
    "    mu = np.log(mean**2/phi)     # mean of log(distribution)\n",
    "    sigma = np.sqrt(np.log(phi**2/mean**2)) # std dev of log(distribution)\n",
    "    dist = np.random.lognormal(mu, sigma, num_data)\n",
    "    \n",
    "    return dist, mu, sigma"
   ]
  }
 ],
 "metadata": {
  "kernelspec": {
   "display_name": "Python 3",
   "language": "python",
   "name": "python3"
  },
  "language_info": {
   "codemirror_mode": {
    "name": "ipython",
    "version": 3
   },
   "file_extension": ".py",
   "mimetype": "text/x-python",
   "name": "python",
   "nbconvert_exporter": "python",
   "pygments_lexer": "ipython3",
   "version": "3.4.3"
  }
 },
 "nbformat": 4,
 "nbformat_minor": 0
}
